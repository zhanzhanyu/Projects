{
 "cells": [
  {
   "cell_type": "markdown",
   "metadata": {},
   "source": [
    "\n",
    "# Web APIs & NLP Part 2   \n",
    "\n",
    "_**Authors:** Zhan Yu_"
   ]
  },
  {
   "cell_type": "markdown",
   "metadata": {},
   "source": [
    "## Table of Contents\n",
    "- [Feature Engineering](#Feature-Engineering)  \n",
    "- [Modeling](#Modeling)\n",
    "    - [Baseline Model](#Baseline-Model)\n",
    "    - [Naive Bayes Models](#Naive-Bayes-Models)\n",
    "    - [Bagging Models](#Bagging-Models)\n",
    "- [Data Visualization](#Data-Visualization)\n",
    "- [Model Evaluation](#Model-Evaluation)\n",
    "- [Conclusion](#Conclusion)\n",
    "- [Recommendations and limitation](#Recommendations-and-limitation)\n",
    "- [References](#References)"
   ]
  },
  {
   "cell_type": "markdown",
   "metadata": {},
   "source": [
    "## Loading Libraries & Data"
   ]
  },
  {
   "cell_type": "code",
   "execution_count": 1,
   "metadata": {},
   "outputs": [
    {
     "name": "stderr",
     "output_type": "stream",
     "text": [
      "/Users/zhan/opt/anaconda3/envs/dsi/lib/python3.7/site-packages/sklearn/utils/deprecation.py:144: FutureWarning: The sklearn.feature_extraction.stop_words module is  deprecated in version 0.22 and will be removed in version 0.24. The corresponding classes / functions should instead be imported from sklearn.feature_extraction.text. Anything that cannot be imported from sklearn.feature_extraction.text is now part of the private API.\n",
      "  warnings.warn(message, FutureWarning)\n"
     ]
    }
   ],
   "source": [
    "import pandas as pd\n",
    "import numpy as np\n",
    "import matplotlib.pyplot as plt\n",
    "from matplotlib.ticker import NullFormatter\n",
    "\n",
    "import nltk\n",
    "from nltk.stem import WordNetLemmatizer\n",
    "from nltk.stem.porter import PorterStemmer\n",
    "from nltk.tokenize import RegexpTokenizer  \n",
    "\n",
    "import regex as re\n",
    "from nltk.corpus import stopwords\n",
    "\n",
    "from sklearn.model_selection import train_test_split, GridSearchCV\n",
    "from sklearn.pipeline import Pipeline\n",
    "from sklearn.linear_model import LogisticRegression\n",
    "from sklearn.feature_extraction.text import CountVectorizer, TfidfVectorizer\n",
    "from sklearn.feature_extraction import stop_words\n",
    "from sklearn.naive_bayes import MultinomialNB, GaussianNB\n",
    "from sklearn.tree import DecisionTreeClassifier\n",
    "from sklearn.ensemble import BaggingClassifier\n",
    "from sklearn.metrics import confusion_matrix"
   ]
  },
  {
   "cell_type": "code",
   "execution_count": 2,
   "metadata": {},
   "outputs": [],
   "source": [
    "# Read in data\n",
    "df = pd.read_csv('data/meaningful_words.csv')"
   ]
  },
  {
   "cell_type": "code",
   "execution_count": 3,
   "metadata": {},
   "outputs": [],
   "source": [
    "# Drop missing values and reset index\n",
    "df.dropna(inplace=True)\n",
    "df.reset_index(drop=True, inplace=True)"
   ]
  },
  {
   "cell_type": "markdown",
   "metadata": {},
   "source": [
    "## Feature Engineering  \n",
    "\n",
    "### Stemming/Lemmentizing  \n",
    "We are going to test Stemming, Lemmentizing and without Stemming/Lemmentizing for the `text` column:  "
   ]
  },
  {
   "cell_type": "code",
   "execution_count": 4,
   "metadata": {},
   "outputs": [],
   "source": [
    "def stemming(text):\n",
    "    \n",
    "    # split into individual words.\n",
    "    words = text.split()\n",
    "    \n",
    "    # Remove 'makeup', 'sephora'.\n",
    "    stops = ['makeup', 'sephora']\n",
    "    meaningful_words = [w for w in words if not w in stops]\n",
    "    \n",
    "    # Stemming\n",
    "    p_stemmer = PorterStemmer()\n",
    "    stemming = [p_stemmer.stem(i) for i in meaningful_words]\n",
    "    \n",
    "    # Join the words back into one string separated by space and return the result.\n",
    "    return(\" \".join(stemming))"
   ]
  },
  {
   "cell_type": "markdown",
   "metadata": {},
   "source": [
    "For CountVectorizer with Logistic Regression:  \n",
    "Training score: 0.8911708932942503  \n",
    "Testing score: 0.8853102906520032   \n",
    "Best parameters: {'vectorizer__max_features': 5000, 'vectorizer__ngram_range': (1, 1)}  \n",
    "\n",
    "For TfidfVectorizer with Logistic Regression:  \n",
    "Training score: 0.8979096662615369  \n",
    "Testing score: 0.9088766692851532  \n",
    "Best parameters: {'vectorizer__max_features': 5000, 'vectorizer__ngram_range': (1, 1)}  "
   ]
  },
  {
   "cell_type": "code",
   "execution_count": 5,
   "metadata": {},
   "outputs": [],
   "source": [
    "def lemmatizing(text):\n",
    "    \n",
    "    # split into individual words.\n",
    "    words = text.split()\n",
    "    \n",
    "    # Remove 'makeup', 'sephora'.\n",
    "    stops = ['makeup', 'sephora']\n",
    "    meaningful_words = [w for w in words if not w in stops]\n",
    "    \n",
    "    # lemmatizing\n",
    "    lemmatizer = WordNetLemmatizer()\n",
    "    lemmatizing = [lemmatizer.lemmatize(i) for i in meaningful_words]\n",
    "    \n",
    "    # Join the words back into one string separated by space and return the result.\n",
    "    return(\" \".join(lemmatizing))"
   ]
  },
  {
   "cell_type": "markdown",
   "metadata": {},
   "source": [
    "For CountVectorizer with Logistic Regression:  \n",
    "Training score: 0.8952150422322314  \n",
    "Testing score: 0.8978790259230165  \n",
    "Best parameters: {'vectorizer__max_features': 15000, 'vectorizer__ngram_range': (1, 2)}  \n",
    "For TfidfVectorizer with Logistic Regression:  \n",
    "Training score: 0.9002672495089077  \n",
    "Testing score: 0.9080911233307148  \n",
    "Best parameters: {'vectorizer__max_features': 5000, 'vectorizer__ngram_range': (1, 1)}"
   ]
  },
  {
   "cell_type": "code",
   "execution_count": 6,
   "metadata": {},
   "outputs": [],
   "source": [
    "df['text'] = df['text'].apply(lemmatizing)"
   ]
  },
  {
   "cell_type": "markdown",
   "metadata": {},
   "source": [
    "## Modeling\n",
    "\n",
    "First we are going to establish baseline model and then build Linear Regression, Naive Bayes and Bagging Models:"
   ]
  },
  {
   "cell_type": "markdown",
   "metadata": {},
   "source": [
    "### Baseline Model\n",
    "\n",
    " \n",
    "In this project we are going to build a model to predict if a post is from \"Makeup\" or \"Sephora\". So this is a classification problem and the baseline model is predicting majority class."
   ]
  },
  {
   "cell_type": "code",
   "execution_count": 7,
   "metadata": {},
   "outputs": [],
   "source": [
    "X = df['text']   # CountVectorizer requires a vector, so X is a series.\n",
    "y = df['subreddit']\n",
    "\n",
    "# Train test split\n",
    "X_train, X_test, y_train, y_test = train_test_split(X, \n",
    "                                                    y, \n",
    "                                                    random_state = 42, \n",
    "                                                    test_size = 0.3, \n",
    "                                                    stratify = y)   "
   ]
  },
  {
   "cell_type": "code",
   "execution_count": 8,
   "metadata": {
    "scrolled": true
   },
   "outputs": [
    {
     "data": {
      "text/plain": [
       "0    0.582881\n",
       "1    0.417119\n",
       "Name: subreddit, dtype: float64"
      ]
     },
     "execution_count": 8,
     "metadata": {},
     "output_type": "execute_result"
    }
   ],
   "source": [
    "# Check y variable, the outcomes are not that different since we balanced our data gathering:\n",
    "y.value_counts(normalize = True)"
   ]
  },
  {
   "cell_type": "markdown",
   "metadata": {},
   "source": [
    "So our baseline is 0.582881."
   ]
  },
  {
   "cell_type": "markdown",
   "metadata": {},
   "source": [
    "### Logistic Regression Models  \n",
    "We are using `Pineline` to put two vectorizers `CountVectorizer` and `TfidfVectorizer`, and `LogisticRegression` model together with `GridSearchCV` to find best parameters."
   ]
  },
  {
   "cell_type": "code",
   "execution_count": 9,
   "metadata": {},
   "outputs": [],
   "source": [
    "# Logistic Regression Models with two vectorizers:\n",
    "pipe_cvec_lr = Pipeline(steps = [('vectorizer', CountVectorizer()), ('model', LogisticRegression())])\n",
    "pipe_tvec_lr = Pipeline(steps = [('vectorizer', TfidfVectorizer()), ('model', LogisticRegression())])\n",
    "\n",
    "# Try to find the best parameters in max_features 5000 and 15000, \n",
    "# ngram_range is one-word only or one-word AND two-word.\n",
    "pipe_params = {                             \n",
    "    'vectorizer__max_features': [5000, 15000], \n",
    "    'vectorizer__ngram_range': [(1, 1), (1, 2), (2, 2)],\n",
    "}\n",
    "\n",
    "# Grid search with 3 cross validation\n",
    "gs_cvec_lr = GridSearchCV(pipe_cvec_lr, \n",
    "                 param_grid= pipe_params, \n",
    "                 cv = 3,\n",
    "                 scoring = 'accuracy')\n",
    "gs_tvec_lr = GridSearchCV(pipe_tvec_lr, \n",
    "                 param_grid= pipe_params, \n",
    "                 cv = 3,\n",
    "                 scoring = 'accuracy')\n",
    "\n",
    "# Fit the training data in:\n",
    "results_cvec_lr = gs_cvec_lr.fit(X_train, y_train)\n",
    "results_tvec_lr = gs_tvec_lr.fit(X_train, y_train)"
   ]
  },
  {
   "cell_type": "code",
   "execution_count": 10,
   "metadata": {},
   "outputs": [
    {
     "name": "stdout",
     "output_type": "stream",
     "text": [
      "For CountVectorizer with Logistic Regression:\n",
      "Training score: 0.8952150422322314\n",
      "Testing score: 0.8978790259230165\n",
      "Best parameters: {'vectorizer__max_features': 15000, 'vectorizer__ngram_range': (1, 2)}\n",
      "==================================\n",
      "For TfidfVectorizer with Logistic Regression:\n",
      "Training score: 0.9002672495089077\n",
      "Testing score: 0.9080911233307148\n",
      "Best parameters: {'vectorizer__max_features': 5000, 'vectorizer__ngram_range': (1, 1)}\n",
      "==================================\n"
     ]
    }
   ],
   "source": [
    "print(f'For CountVectorizer with Logistic Regression:\\nTraining score: {results_cvec_lr.best_score_}\\nTesting score: {results_cvec_lr.best_estimator_.score(X_test, y_test)}\\nBest parameters: {results_cvec_lr.best_params_}')\n",
    "print('==================================')\n",
    "print(f'For TfidfVectorizer with Logistic Regression:\\nTraining score: {results_tvec_lr.best_score_}\\nTesting score: {results_tvec_lr.best_estimator_.score(X_test, y_test)}\\nBest parameters: {results_tvec_lr.best_params_}')\n",
    "print('==================================')"
   ]
  },
  {
   "cell_type": "markdown",
   "metadata": {},
   "source": [
    "This shows us the accuracy scores for the two models with best parameters. TfidfVectorizer with Logistic Regression has a high testing score but it is a little underfit."
   ]
  },
  {
   "cell_type": "markdown",
   "metadata": {},
   "source": [
    "### Naive Bayes Models  \n",
    "For `CountVectorizer` we use model `MultinomialNB`; For `TfidfVectorizer` we use model `GaussianNB`."
   ]
  },
  {
   "cell_type": "code",
   "execution_count": 11,
   "metadata": {},
   "outputs": [],
   "source": [
    "X = np.array(df['text'])  # CountVectorizer requires a vector, so X is a series.\n",
    "y = np.array(df['subreddit']).astype(int)\n",
    "\n",
    "# Train test split\n",
    "X_train, X_test, y_train, y_test = train_test_split(X, \n",
    "                                                    y, \n",
    "                                                    random_state = 42, \n",
    "                                                    test_size = 0.3, \n",
    "                                                    stratify = y)   "
   ]
  },
  {
   "cell_type": "code",
   "execution_count": 12,
   "metadata": {},
   "outputs": [],
   "source": [
    "pipe_cvec_mnb = Pipeline(steps = [('vectorizer', CountVectorizer()), ('model', MultinomialNB())])\n",
    "\n",
    "\n",
    "# Try to find the best parameters in max_features 5000 and 15000, \n",
    "# ngram_range is one-word only or one-word AND two-word.\n",
    "pipe_params = {                             \n",
    "    'vectorizer__max_features': [10000, 15000], \n",
    "    'vectorizer__ngram_range': [(1, 1), (1, 2), (2, 2)],\n",
    "    'model__alpha': [0.9, 0.95]\n",
    "}\n",
    "\n",
    "# Grid search with 3 cross validation\n",
    "gs_cvec_mnb = GridSearchCV(pipe_cvec_mnb, \n",
    "                 param_grid= pipe_params, \n",
    "                 cv = 3,\n",
    "                 scoring = 'accuracy')\n",
    "\n",
    "\n",
    "# Fit the training data in:\n",
    "results_cvec_mnb = gs_cvec_mnb.fit(X_train, y_train)"
   ]
  },
  {
   "cell_type": "code",
   "execution_count": 13,
   "metadata": {
    "scrolled": true
   },
   "outputs": [
    {
     "name": "stdout",
     "output_type": "stream",
     "text": [
      "For CountVectorizer with Multinomial Naive Bayes:\n",
      "Training score: 0.9012841594236942\n",
      "Testing score: 0.9018067556952082\n",
      "Best parameters: {'model__alpha': 0.9, 'vectorizer__max_features': 15000, 'vectorizer__ngram_range': (1, 2)}\n"
     ]
    }
   ],
   "source": [
    "print(f'For CountVectorizer with Multinomial Naive Bayes:\\nTraining score: {results_cvec_mnb.best_score_}\\nTesting score: {results_cvec_mnb.best_estimator_.score(X_test, y_test)}\\nBest parameters: {results_cvec_mnb.best_params_}')"
   ]
  },
  {
   "cell_type": "markdown",
   "metadata": {},
   "source": [
    "This shows us the accuracy scores for the two models with best parameters."
   ]
  },
  {
   "cell_type": "code",
   "execution_count": 14,
   "metadata": {},
   "outputs": [
    {
     "name": "stdout",
     "output_type": "stream",
     "text": [
      "0.9504716981132075\n",
      "0.8444619010212098\n"
     ]
    }
   ],
   "source": [
    "tvec = TfidfVectorizer(max_features = 5000, ngram_range = (1, 2))\n",
    "X_train_df_tvec = pd.DataFrame(tvec.fit_transform(X_train).toarray(), \n",
    "                            columns = tvec.get_feature_names())\n",
    "X_test_df_tvec = pd.DataFrame(tvec.transform(X_test).toarray(), \n",
    "                           columns = tvec.get_feature_names())\n",
    "\n",
    "# Instantiate GaussianNB.\n",
    "gnb = GaussianNB()\n",
    "\n",
    "# Fit GaussianNB.\n",
    "gnb.fit(X_train_df_tvec, y_train)\n",
    "\n",
    "# Score GaussianNB.\n",
    "print(gnb.score(X_train_df_tvec, y_train))\n",
    "print(gnb.score(X_test_df_tvec, y_test))"
   ]
  },
  {
   "cell_type": "markdown",
   "metadata": {},
   "source": [
    "This shows us the accuracy scores for traning and testing data."
   ]
  },
  {
   "cell_type": "markdown",
   "metadata": {},
   "source": [
    "### Bagging Models  \n",
    "We use `BaggingClassifier`for both `CountVectorizer` and `TfidfVectorizer`."
   ]
  },
  {
   "cell_type": "code",
   "execution_count": 15,
   "metadata": {},
   "outputs": [
    {
     "name": "stdout",
     "output_type": "stream",
     "text": [
      "0.9845013477088949\n",
      "0.8766692851531814\n"
     ]
    }
   ],
   "source": [
    "cvec = CountVectorizer(max_features = 15000, ngram_range = (1, 2))\n",
    "X_train_df_cvec = pd.DataFrame(cvec.fit_transform(X_train).toarray(), \n",
    "                          columns = cvec.get_feature_names())\n",
    "X_test_df_cvec = pd.DataFrame(cvec.transform(X_test).toarray(), \n",
    "                         columns = cvec.get_feature_names())\n",
    "\n",
    "# Instantiate BaggingClassifier.\n",
    "bag = BaggingClassifier(random_state = 42)\n",
    "\n",
    "# Fit BaggingClassifier.\n",
    "bag.fit(X_train_df_cvec, y_train)\n",
    "\n",
    "# Score BaggingClassifier.\n",
    "print(bag.score(X_train_df_cvec, y_train))\n",
    "print(bag.score(X_test_df_cvec, y_test))"
   ]
  },
  {
   "cell_type": "code",
   "execution_count": 16,
   "metadata": {},
   "outputs": [
    {
     "name": "stdout",
     "output_type": "stream",
     "text": [
      "0.987533692722372\n",
      "0.8766692851531814\n"
     ]
    }
   ],
   "source": [
    "# Instantiate BaggingClassifier.\n",
    "bag = BaggingClassifier(random_state = 42)\n",
    "\n",
    "# Fit BaggingClassifier.\n",
    "bag.fit(X_train_df_tvec, y_train)\n",
    "\n",
    "# Score BaggingClassifier.\n",
    "print(bag.score(X_train_df_tvec, y_train))\n",
    "print(bag.score(X_test_df_tvec, y_test))"
   ]
  },
  {
   "cell_type": "markdown",
   "metadata": {},
   "source": [
    "This shows us the accuracy scores for traning and testing data. There is clear evidence of overfitting here."
   ]
  },
  {
   "cell_type": "markdown",
   "metadata": {},
   "source": [
    "## Data Visualization  \n",
    "We use `CountVectorizer` and `TfidfVectorizer` with two words `ngram_range=(2, 2)` which it is easier for us to see the most popular words in two subreddit."
   ]
  },
  {
   "cell_type": "code",
   "execution_count": 17,
   "metadata": {},
   "outputs": [],
   "source": [
    "cvec = CountVectorizer(ngram_range=(2, 2))\n",
    "df_c = pd.DataFrame(cvec.fit_transform(df['text']).toarray(), columns = cvec.get_feature_names())\n",
    "df_c['subreddit'] = df['subreddit']"
   ]
  },
  {
   "cell_type": "code",
   "execution_count": 18,
   "metadata": {},
   "outputs": [],
   "source": [
    "tvec = TfidfVectorizer(ngram_range=(2, 2))\n",
    "df_tvec = pd.DataFrame(tvec.fit_transform(df['text']).toarray(), columns = tvec.get_feature_names())\n",
    "df_tvec['subreddit'] = df['subreddit']"
   ]
  },
  {
   "cell_type": "code",
   "execution_count": 19,
   "metadata": {
    "scrolled": true
   },
   "outputs": [
    {
     "data": {
      "image/png": "[encoded data removed]",
      "text/plain": [
       "<Figure size 360x360 with 4 Axes>"
      ]
     },
     "metadata": {
      "needs_background": "light"
     },
     "output_type": "display_data"
    }
   ],
   "source": [
    "# Plot with various axes scales\n",
    "plt.figure()\n",
    "\n",
    "plt.subplot(221)\n",
    "df_c[df_c['subreddit']==1].sum().sort_values(ascending= False)[1:11].plot(kind = 'barh', \n",
    "                                                                          color = 'red', \n",
    "                                                                          figsize = (5, 5),\n",
    "                                                                        fontsize=15)\n",
    "plt.title('Top 10 words r/Sephora', fontsize = 20)\n",
    "plt.xlabel('Number of word counts', fontsize = 15)\n",
    "plt.ylabel('Key words', fontsize = 15)\n",
    "\n",
    "plt.subplot(222)\n",
    "df_c[df_c['subreddit']==0].sum().sort_values(ascending= False).head(10).plot(kind = 'barh', \n",
    "                                                                             color = 'black', \n",
    "                                                                            figsize = (5, 5),\n",
    "                                                                        fontsize=15)\n",
    "plt.title('Top 10 words r/Makeup', fontsize = 20)\n",
    "plt.xlabel('Number of word counts', fontsize = 15)\n",
    "plt.ylabel('Key words', fontsize = 15)\n",
    "\n",
    "plt.subplot(223)\n",
    "df_tvec[df_tvec['subreddit']==1].sum().sort_values(ascending= False)[1:11].plot(kind = 'barh', \n",
    "                                                                          color = 'red', \n",
    "                                                                          figsize = (5, 5),\n",
    "                                                                        fontsize=15)\n",
    "plt.title('Top 10 words r/Sephora', fontsize = 20)\n",
    "plt.xlabel('Weight of word', fontsize = 15)\n",
    "plt.ylabel('Key words', fontsize = 15)\n",
    "\n",
    "plt.subplot(224)\n",
    "df_tvec[df_tvec['subreddit']==0].sum().sort_values(ascending= False).head(10).plot(kind = 'barh', \n",
    "                                                                             color = 'black', \n",
    "                                                                            figsize = (5, 5),\n",
    "                                                                        fontsize=15)\n",
    "plt.title('Top 10 words r/Makeup', fontsize = 20)\n",
    "plt.xlabel('Weight of word', fontsize = 15)\n",
    "plt.ylabel('Key words', fontsize = 15)\n",
    "\n",
    "plt.gca().yaxis.set_minor_formatter(NullFormatter())\n",
    "plt.subplots_adjust(top=3, bottom=0.1, left=0.10, right=3, hspace=0.5, wspace=0.5)\n",
    "\n",
    "plt.show()"
   ]
  },
  {
   "cell_type": "markdown",
   "metadata": {},
   "source": [
    "The plots showes the top 10 two-words used by two group members."
   ]
  },
  {
   "cell_type": "markdown",
   "metadata": {},
   "source": [
    "## Model Evaluation   \n",
    "Let's have look at our models with the accuracy scores of traning data and testing data:"
   ]
  },
  {
   "cell_type": "markdown",
   "metadata": {},
   "source": [
    "#### With our baseline score 0.582881:  \n",
    "\n",
    "| Model | Accuracy of Traning Data | Accuracy of Testing Data |  \n",
    "|---|---|---|  \n",
    "| Logistic Regression with CountVectorizer | 0.8952 | 0.8979 |  \n",
    "| Logistic Regression with TfidfVectorize | 0.9003 | 0.9081 |  \n",
    "| MultinomialNB with CountVectorizer | 0.9013 | **0.9018** |  \n",
    "| GaussianNB with TfidfVectorizer |0.9505 |0.8445 |  \n",
    "| BaggingClassifierfor with CountVectorizer | 0.9845 | 0.8767 |\n",
    "| BaggingClassifierfor with TfidfVectorizer | 0.9875 | 0.8767 |\n",
    "\n",
    "\n",
    "Naive Bayes Models for `CountVectorizer` with `MultinomialNB` is our best model, according to the Accuracy."
   ]
  },
  {
   "cell_type": "markdown",
   "metadata": {},
   "source": [
    "#### Confusion Matrix  \n",
    "\n",
    "Let's see what the test specificity and sensitivity of our best model MultinomialNB with CountVectorizer."
   ]
  },
  {
   "cell_type": "code",
   "execution_count": 20,
   "metadata": {},
   "outputs": [],
   "source": [
    "preds = results_cvec_mnb.predict(X_test)\n",
    "\n",
    "# Save TN/FP/FN/TP values.\n",
    "\n",
    "tn, fp, fn, tp = confusion_matrix(y_test,             # True values.\n",
    "                                  preds).ravel()      # Predicted values."
   ]
  },
  {
   "cell_type": "code",
   "execution_count": 21,
   "metadata": {},
   "outputs": [
    {
     "name": "stdout",
     "output_type": "stream",
     "text": [
      "Specificity: 0.9394\n",
      "Sensitivity: 0.8493\n"
     ]
    }
   ],
   "source": [
    "# The test specificity of our model:\n",
    "spec = tn / (tn + fp)\n",
    "\n",
    "print(f'Specificity: {round(spec,4)}')\n",
    "\n",
    "# The test sensitivity:\n",
    "sens = tp / (tp + fn)\n",
    "\n",
    "print(f'Sensitivity: {round(sens,4)}')"
   ]
  },
  {
   "cell_type": "markdown",
   "metadata": {},
   "source": [
    "So for all Makeup subreddit predictions, 93.94% we predict right; for all Sephora subreddit predictions, 84.93% we predict right."
   ]
  },
  {
   "cell_type": "markdown",
   "metadata": {},
   "source": [
    "## Conclusion\n",
    "\n",
    "With Natural Language Processing (NLP) we could build a model which is able to identify which post are from Makeup subreddit(needed to be responded by customer service employees) and which are from Sephora subreddit (answers could simply be generated by computer) with a fairly high prediction accuracy.\n",
    "The model solves the problem with our best model - Naive Bayes for CountVectorizer with MultinomialNB which can have the accuracy as 90%. "
   ]
  },
  {
   "cell_type": "markdown",
   "metadata": {},
   "source": [
    "## Recommendations and limitation  \n",
    "Sephora website would use \"chatbots\" in order to improve their customer experience, save time and labor power and it is a better data gathering and storing method.  \n",
    "\n",
    "**Limitations** \n",
    "- Some Ad blocker could block Chatbots.\n",
    "- Texting preference (e.g. Languages): This model is only built base on English language.\n",
    "- Miscommunications: Texting is sometimes not as efficient as conversations."
   ]
  },
  {
   "cell_type": "markdown",
   "metadata": {},
   "source": [
    "## References   \n",
    "- [Chatbot-Wikipedia](https://en.wikipedia.org/wiki/Chatbot)  \n",
    "- [Sephora-Wikipedia](https://en.wikipedia.org/wiki/Sephora)  \n",
    "- [Pushshift Reddit API Documentation](https://github.com/pushshift/api)"
   ]
  }
 ],
 "metadata": {
  "kernelspec": {
   "display_name": "Python 3",
   "language": "python",
   "name": "python3"
  },
  "language_info": {
   "codemirror_mode": {
    "name": "ipython",
    "version": 3
   },
   "file_extension": ".py",
   "mimetype": "text/x-python",
   "name": "python",
   "nbconvert_exporter": "python",
   "pygments_lexer": "ipython3",
   "version": "3.7.3"
  }
 },
 "nbformat": 4,
 "nbformat_minor": 4
}
